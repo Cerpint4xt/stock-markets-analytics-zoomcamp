{
 "cells": [
  {
   "cell_type": "markdown",
   "metadata": {},
   "source": [
    "# Homework 1 - Stock Markets Analytics Zoomcamp\n",
    "\n",
    "## Introduction and Data Source\n",
    "\n",
    "### Question 1: [Macro] Average growth of GDP in 2023\n",
    "\n",
    "**What is the average growth (in %) of GDP in 2023?**\n",
    "\n",
    "Download the timeseries Real Gross Domestic Product (GDPC1) from FRED (https://fred.stlouisfed.org/series/GDPC1). Calculate year-over-year (YoY) growth rate (that is, divide current value to one 4 quarters ago). Find the average YoY growth in 2023 (average from 4 YoY numbers). Round to 1 digit after the decimal point: e.g. if you get 5.66% growth => you should answer 5.7"
   ]
  },
  {
   "cell_type": "code",
<<<<<<< HEAD
<<<<<<< HEAD
<<<<<<< HEAD
<<<<<<< HEAD
<<<<<<< HEAD
<<<<<<< HEAD
<<<<<<< HEAD
<<<<<<< HEAD
   "execution_count": 34,
   "metadata": {},
   "outputs": [],
   "source": [
    "# importing necessary libraries after creating the venv for this notebook. \n",
=======
=======
>>>>>>> fcae48b (Update ipynb with formating and other minor changes)
=======
>>>>>>> 979fd3e (Update ipynb with formating and other minor changes)
   "execution_count": 12,
   "metadata": {},
   "outputs": [],
   "source": [
<<<<<<< HEAD
<<<<<<< HEAD
>>>>>>> 979fd3e (Update ipynb with formating and other minor changes)
=======
   "execution_count": 34,
   "metadata": {},
   "outputs": [],
   "source": [
    "# importing necessary libraries after creating the venv for this notebook. \n",
>>>>>>> 7fe955c (add additional answers question 3)
=======
>>>>>>> fcae48b (Update ipynb with formating and other minor changes)
=======
   "execution_count": 34,
   "metadata": {},
   "outputs": [],
   "source": [
    "# importing necessary libraries after creating the venv for this notebook. \n",
>>>>>>> fe18548 (add additional answers question 3)
=======
>>>>>>> 979fd3e (Update ipynb with formating and other minor changes)
    "import pandas as pd\n",
    "import datetime as dt\n",
    "\n",
    "import pandas_datareader.data as pdr\n",
    "import yfinance as yf"
   ]
  },
  {
   "cell_type": "code",
   "execution_count": 29,
<<<<<<< HEAD
<<<<<<< HEAD
<<<<<<< HEAD
=======
   "execution_count": 3,
>>>>>>> 65c15b9 (create homework directory and add first homework)
=======
>>>>>>> 979fd3e (Update ipynb with formating and other minor changes)
=======
   "execution_count": 3,
>>>>>>> d69f503 (create homework directory and add first homework)
=======
>>>>>>> fcae48b (Update ipynb with formating and other minor changes)
=======
   "execution_count": 3,
>>>>>>> 65c15b9 (create homework directory and add first homework)
=======
>>>>>>> 979fd3e (Update ipynb with formating and other minor changes)
   "metadata": {},
   "outputs": [
    {
     "name": "stdout",
     "output_type": "stream",
     "text": [
      "Average YoY Growth in 2023: YoY_Growth    2.5\n",
      "dtype: float64%\n"
     ]
    }
   ],
   "source": [
<<<<<<< HEAD
<<<<<<< HEAD
<<<<<<< HEAD
<<<<<<< HEAD
<<<<<<< HEAD
<<<<<<< HEAD
=======
=======
>>>>>>> d69f503 (create homework directory and add first homework)
=======
>>>>>>> 65c15b9 (create homework directory and add first homework)
    "import pandas as pd\n",
    "import pandas_datareader.data as pdr\n",
    "import datetime as dt\n",
    "\n",
<<<<<<< HEAD
<<<<<<< HEAD
>>>>>>> 65c15b9 (create homework directory and add first homework)
=======
>>>>>>> 979fd3e (Update ipynb with formating and other minor changes)
=======
>>>>>>> d69f503 (create homework directory and add first homework)
=======
>>>>>>> fcae48b (Update ipynb with formating and other minor changes)
=======
>>>>>>> 65c15b9 (create homework directory and add first homework)
=======
>>>>>>> 979fd3e (Update ipynb with formating and other minor changes)
    "# Define start and end dates\n",
    "start = dt.datetime(2022, 1, 1)\n",
    "end = dt.datetime(2024, 1, 1)\n",
    "\n",
    "# Download GDPC1 data from FRED\n",
    "gdpc1 = pdr.DataReader(\"GDPC1\", \"fred\", start, end)\n",
    "\n",
    "# Calculate year-over-year growth rate\n",
    "gdpc1_yoy = gdpc1.pct_change(4) * 100  # Multiply by 100 to get percentage change\n",
    "gdpc1_yoy.columns = ['YoY_Growth']  # Rename column for clarity\n",
    "\n",
    "# Extract YoY growth rates for 2023\n",
    "gdpc1_yoy_2023 = gdpc1_yoy.loc['2023']\n",
    "\n",
    "# Calculate average YoY growth in 2023\n",
    "average_yoy_growth_2023 = gdpc1_yoy_2023.mean()\n",
    "\n",
    "# Round to 1 decimal point\n",
    "average_yoy_growth_2023_rounded = round(average_yoy_growth_2023, 1)\n",
    "\n",
    "print(\"Average YoY Growth in 2023: {}%\".format(average_yoy_growth_2023_rounded))"
   ]
  },
  {
   "cell_type": "markdown",
   "metadata": {},
   "source": [
    "### Question 2. [Macro] Inverse \"Treasury Yield\"\n",
    "\n",
    "**Find the min value of (dgs10-dgs2) after since year 2000 (2000-01-01) and write it down as an answer, round to 1 digit after the decimal point.**\n",
    "\n",
    "Download DGS2 and DGS10 interest rates series (https://fred.stlouisfed.org/series/DGS2, https://fred.stlouisfed.org/series/DGS10). Join them together to one dataframe on date (you might need to read about pandas.DataFrame.join()), calculate the difference dgs10-dgs2 daily.\n",
    "\n",
    "(Additional: think about what does the \"inverted yield curve\" mean for the market and investors? do you see the same thing in your country/market of interest? Do you think it can be a good predictive feature for the models?)"
   ]
  },
  {
   "cell_type": "code",
<<<<<<< HEAD
<<<<<<< HEAD
<<<<<<< HEAD
<<<<<<< HEAD
<<<<<<< HEAD
<<<<<<< HEAD
   "execution_count": 30,
=======
   "execution_count": 5,
>>>>>>> 65c15b9 (create homework directory and add first homework)
=======
   "execution_count": 30,
>>>>>>> 979fd3e (Update ipynb with formating and other minor changes)
=======
   "execution_count": 5,
>>>>>>> d69f503 (create homework directory and add first homework)
=======
   "execution_count": 30,
>>>>>>> fcae48b (Update ipynb with formating and other minor changes)
=======
   "execution_count": 5,
>>>>>>> 65c15b9 (create homework directory and add first homework)
=======
   "execution_count": 30,
>>>>>>> 979fd3e (Update ipynb with formating and other minor changes)
   "metadata": {},
   "outputs": [
    {
     "name": "stdout",
     "output_type": "stream",
     "text": [
      "Minimum value of (DGS10 - DGS2) since 2000: -1.1%\n"
     ]
    }
   ],
   "source": [
    "# Define start and end dates\n",
    "start = \"2000-01-01\"\n",
    "end = \"2024-01-01\"\n",
    "\n",
    "# Download DGS2 and DGS10 data from FRED\n",
    "dgs2 = pdr.DataReader(\"DGS2\", \"fred\", start, end)\n",
    "dgs10 = pdr.DataReader(\"DGS10\", \"fred\", start, end)\n",
    "\n",
    "# Join the two dataframes on date\n",
    "interest_rates = dgs2.join(dgs10, how=\"inner\", lsuffix=\"_2\", rsuffix=\"_10\")\n",
    "\n",
    "# Calculate the difference between DGS10 and DGS2 daily\n",
    "interest_rates[\"DGS10_minus_DGS2\"] = interest_rates[\"DGS10\"] - interest_rates[\"DGS2\"]\n",
    "\n",
    "# Find the minimum value of (DGS10 - DGS2) since 2000\n",
    "min_value_since_2000 = interest_rates[\"DGS10_minus_DGS2\"].min()\n",
    "\n",
    "# Round to 1 decimal point\n",
    "min_value_rounded = round(min_value_since_2000, 1)\n",
    "\n",
    "print(\"Minimum value of (DGS10 - DGS2) since 2000: {}%\".format(min_value_rounded))"
   ]
  },
  {
   "cell_type": "markdown",
   "metadata": {},
   "source": [
    "Additional answers:\n",
<<<<<<< HEAD
<<<<<<< HEAD
<<<<<<< HEAD
<<<<<<< HEAD
<<<<<<< HEAD
    "1. According to what I read an \"inverted curve\" becomes a economic indicator, it is often seen as a reliable predictor of an economic recession. It also means for the investors a market expectation as in weaker economic growth or even a recession in the future, they may demand higher yields for short-term bonds compared to long-term bonds.\n",
    "2. Yes, It could be a valuable predictive feature for certain models, especially those focused on forecasting economic conditions or financial market movements. "
=======
    "1. asdf\n",
    "2. asdf"
>>>>>>> 65c15b9 (create homework directory and add first homework)
=======
    "1. According to what I read an \"inverted curve\" becomes a economic indicator, it is often seen as a reliable predictor of an economic recession. It also means for the investors a market expectation as in weaker economic growth or even a recession in the future, they may demand higher yields for short-term bonds compared to long-term bonds.\n",
    "2. Yes, It could be a valuable predictive feature for certain models, especially those focused on forecasting economic conditions or financial market movements. "
>>>>>>> 7fe955c (add additional answers question 3)
=======
    "1. asdf\n",
    "2. asdf"
>>>>>>> d69f503 (create homework directory and add first homework)
=======
    "1. According to what I read an \"inverted curve\" becomes a economic indicator, it is often seen as a reliable predictor of an economic recession. It also means for the investors a market expectation as in weaker economic growth or even a recession in the future, they may demand higher yields for short-term bonds compared to long-term bonds.\n",
    "2. Yes, It could be a valuable predictive feature for certain models, especially those focused on forecasting economic conditions or financial market movements. "
>>>>>>> fe18548 (add additional answers question 3)
=======
    "1. asdf\n",
    "2. asdf"
>>>>>>> 65c15b9 (create homework directory and add first homework)
   ]
  },
  {
   "cell_type": "markdown",
   "metadata": {},
   "source": [
    "### Question 3. [Index] Which Index is better recently?\n",
    "\n",
    "**Compare S&P 500 and IPC Mexico indexes by the 5 year growth and write down the largest value as an answer (%)**\n",
    "\n",
    "Download on Yahoo Finance two daily index prices for S&P 500 (^GSPC, https://finance.yahoo.com/quote/%5EGSPC/) and IPC Mexico (^MXX, https://finance.yahoo.com/quote/%5EMXX/). Compare 5Y growth for both (between 2019-04-09 and 2024-04-09). Select the higher growing index and write down the growth in % (closest integer %). E.g. if ratio end/start was 2.0925 (or growth of 109.25%), you need to write down 109 as your answer.\n",
    "\n",
    "(Additional: think of other indexes and try to download stats and compare the growth? Do create 10Y and 20Y growth stats. What is an average yearly growth rate (CAGR) for each of the indexes you select?)"
   ]
  },
  {
   "cell_type": "code",
<<<<<<< HEAD
<<<<<<< HEAD
<<<<<<< HEAD
<<<<<<< HEAD
<<<<<<< HEAD
<<<<<<< HEAD
   "execution_count": 31,
=======
   "execution_count": 7,
>>>>>>> 65c15b9 (create homework directory and add first homework)
=======
   "execution_count": 31,
>>>>>>> 979fd3e (Update ipynb with formating and other minor changes)
=======
   "execution_count": 7,
>>>>>>> d69f503 (create homework directory and add first homework)
=======
   "execution_count": 31,
>>>>>>> fcae48b (Update ipynb with formating and other minor changes)
=======
   "execution_count": 7,
>>>>>>> 65c15b9 (create homework directory and add first homework)
=======
   "execution_count": 31,
>>>>>>> 979fd3e (Update ipynb with formating and other minor changes)
   "metadata": {},
   "outputs": [
    {
     "name": "stderr",
     "output_type": "stream",
     "text": [
      "[*********************100%%**********************]  1 of 1 completed\n",
      "[*********************100%%**********************]  1 of 1 completed"
     ]
    },
    {
     "name": "stdout",
     "output_type": "stream",
     "text": [
      "\n",
      "Index with the highest growth: S&P 500\n",
      "Growth percentage: 80.75%\n"
     ]
    },
    {
     "name": "stderr",
     "output_type": "stream",
     "text": [
      "\n"
     ]
    }
   ],
   "source": [
<<<<<<< HEAD
<<<<<<< HEAD
<<<<<<< HEAD
<<<<<<< HEAD
<<<<<<< HEAD
<<<<<<< HEAD
=======
    "import yfinance as yf\n",
    "import datetime as dt\n",
    "\n",
>>>>>>> 65c15b9 (create homework directory and add first homework)
=======
>>>>>>> 979fd3e (Update ipynb with formating and other minor changes)
=======
    "import yfinance as yf\n",
    "import datetime as dt\n",
    "\n",
>>>>>>> d69f503 (create homework directory and add first homework)
=======
>>>>>>> fcae48b (Update ipynb with formating and other minor changes)
=======
    "import yfinance as yf\n",
    "import datetime as dt\n",
    "\n",
>>>>>>> 65c15b9 (create homework directory and add first homework)
=======
>>>>>>> 979fd3e (Update ipynb with formating and other minor changes)
    "# Define start and end dates for the 5-year period\n",
    "start_date = \"2019-04-09\"\n",
    "end_date = \"2024-04-09\"\n",
    "\n",
    "# Download S&P 500 (^GSPC) and IPC Mexico (^MXX) index data from Yahoo Finance\n",
    "sp500_data = yf.download(\"^GSPC\", start=start_date, end=end_date)\n",
    "ipc_data = yf.download(\"^MXX\", start=start_date, end=end_date)\n",
    "\n",
    "# Calculate the 5-year growth for each index\n",
    "sp500_start_price = sp500_data['Adj Close'].iloc[0]\n",
    "sp500_end_price = sp500_data['Adj Close'].iloc[-1]\n",
    "sp500_growth = ((sp500_end_price - sp500_start_price) / sp500_start_price) * 100\n",
    "\n",
    "ipc_start_price = ipc_data['Adj Close'].iloc[0]\n",
    "ipc_end_price = ipc_data['Adj Close'].iloc[-1]\n",
    "ipc_growth = ((ipc_end_price - ipc_start_price) / ipc_start_price) * 100\n",
    "\n",
    "# Compare the growth values and select the index with the higher growth\n",
    "if sp500_growth > ipc_growth:\n",
    "    selected_index = \"S&P 500\"\n",
    "    selected_growth = round(sp500_growth,2)\n",
    "else:\n",
    "    selected_index = \"IPC Mexico\"\n",
    "    selected_growth = round(ipc_growth,2)\n",
    "\n",
    "print(\"\\nIndex with the highest growth: {}\".format(selected_index))\n",
    "print(\"Growth percentage: {}%\".format(selected_growth))"
   ]
  },
  {
   "cell_type": "markdown",
   "metadata": {},
   "source": [
    "Additional Answers:\n",
<<<<<<< HEAD
<<<<<<< HEAD
<<<<<<< HEAD
<<<<<<< HEAD
<<<<<<< HEAD
=======
>>>>>>> 7fe955c (add additional answers question 3)
=======
>>>>>>> fe18548 (add additional answers question 3)
    "1. To answer this first question, some of other indexed could be: ['FTSE 100 (UK)', 'DAX (Germany)', 'CAC 40 (France)', 'Shanghai Composite (China)']\n",
    "2. And for this question it is a code sniped written below. \n"
   ]
  },
  {
   "cell_type": "code",
   "execution_count": 35,
   "metadata": {},
   "outputs": [
    {
     "name": "stderr",
     "output_type": "stream",
     "text": [
      "[*********************100%%**********************]  1 of 1 completed\n",
      "[*********************100%%**********************]  1 of 1 completed"
     ]
    },
    {
     "name": "stdout",
     "output_type": "stream",
     "text": [
      "\n",
      "Index with the highest growth: CAC 40\n",
      "Growth percentage: 49.35%\n"
     ]
    },
    {
     "name": "stderr",
     "output_type": "stream",
     "text": [
      "\n"
     ]
    }
   ],
   "source": [
    "# Define start and end dates for the 5-year period\n",
    "start_date = \"2019-04-09\"\n",
    "end_date = \"2024-04-09\"\n",
    "\n",
    "# Download S&P 500 (^FCHI) and IPC Mexico (^MXX) index data from Yahoo Finance\n",
    "sp500_data = yf.download(\"^FCHI\", start=start_date, end=end_date)\n",
    "ipc_data = yf.download(\"^MXX\", start=start_date, end=end_date)\n",
    "\n",
    "# Calculate the 5-year growth for each index\n",
    "sp500_start_price = sp500_data['Adj Close'].iloc[0]\n",
    "sp500_end_price = sp500_data['Adj Close'].iloc[-1]\n",
    "sp500_growth = ((sp500_end_price - sp500_start_price) / sp500_start_price) * 100\n",
    "\n",
    "ipc_start_price = ipc_data['Adj Close'].iloc[0]\n",
    "ipc_end_price = ipc_data['Adj Close'].iloc[-1]\n",
    "ipc_growth = ((ipc_end_price - ipc_start_price) / ipc_start_price) * 100\n",
    "\n",
    "# Compare the growth values and select the index with the higher growth\n",
    "if sp500_growth > ipc_growth:\n",
    "    selected_index = \"CAC 40\"\n",
    "    selected_growth = round(sp500_growth,2)\n",
    "else:\n",
    "    selected_index = \"IPC Mexico\"\n",
    "    selected_growth = round(ipc_growth,2)\n",
    "\n",
    "print(\"\\nIndex with the highest growth: {}\".format(selected_index))\n",
    "print(\"Growth percentage: {}%\".format(selected_growth))"
   ]
  },
  {
   "cell_type": "code",
   "execution_count": 36,
   "metadata": {},
   "outputs": [
    {
     "name": "stderr",
     "output_type": "stream",
     "text": [
      "[*********************100%%**********************]  1 of 1 completed\n",
      "[*********************100%%**********************]  1 of 1 completed\n",
      "[*********************100%%**********************]  1 of 1 completed\n",
      "[*********************100%%**********************]  1 of 1 completed"
     ]
    },
    {
     "name": "stdout",
     "output_type": "stream",
     "text": [
      "Average yearly growth rate (CAGR) for each index over 10 years:\n",
      "S&P 500: 12.50%\n",
      "IPC Mexico: 3.32%\n",
      "Overall average CAGR over 10 years: 7.91%\n",
      "\n",
      "Average yearly growth rate (CAGR) for each index over 20 years:\n",
      "S&P 500: 7.20%\n",
      "IPC Mexico: 10.61%\n",
      "Overall average CAGR over 20 years: 8.91%\n"
     ]
    },
    {
     "name": "stderr",
     "output_type": "stream",
     "text": [
      "\n"
     ]
    }
   ],
   "source": [
    "import numpy as np\n",
    "\n",
    "def calculate_cagr(start_value, end_value, num_years):\n",
    "    cagr = (end_value / start_value) ** (1 / num_years) - 1\n",
    "    return cagr * 100  # Convert to percentage\n",
    "\n",
    "# Define the ticker symbols and index names\n",
    "indexes = {\n",
    "    \"S&P 500\": \"^GSPC\",\n",
    "    \"IPC Mexico\": \"^MXX\",\n",
    "    # Add more indexes here if needed\n",
    "}\n",
    "\n",
    "# Define the start and end dates for the analysis\n",
    "start_date_10y = \"2012-04-09\"\n",
    "end_date_10y = \"2022-04-09\"\n",
    "start_date_20y = \"2002-04-09\"\n",
    "end_date_20y = \"2022-04-09\"\n",
    "\n",
    "# Initialize dictionaries to store CAGR values\n",
    "cagr_10y = {}\n",
    "cagr_20y = {}\n",
    "\n",
    "# Loop through each index\n",
    "for index_name, ticker_symbol in indexes.items():\n",
    "    # Download historical data for the index\n",
    "    index_data_10y = yf.download(ticker_symbol, start=start_date_10y, end=end_date_10y)\n",
    "    index_data_20y = yf.download(ticker_symbol, start=start_date_20y, end=end_date_20y)\n",
    "\n",
    "    # Calculate the CAGR for 10 years\n",
    "    start_value_10y = index_data_10y['Adj Close'].iloc[0]\n",
    "    end_value_10y = index_data_10y['Adj Close'].iloc[-1]\n",
    "    cagr_10y[index_name] = calculate_cagr(start_value_10y, end_value_10y, 10)\n",
    "\n",
    "    # Calculate the CAGR for 20 years\n",
    "    start_value_20y = index_data_20y['Adj Close'].iloc[0]\n",
    "    end_value_20y = index_data_20y['Adj Close'].iloc[-1]\n",
    "    cagr_20y[index_name] = calculate_cagr(start_value_20y, end_value_20y, 20)\n",
    "\n",
    "# Calculate the average yearly growth rate (CAGR) for each index\n",
    "average_cagr_10y = np.mean(list(cagr_10y.values()))\n",
    "average_cagr_20y = np.mean(list(cagr_20y.values()))\n",
    "\n",
    "print(\"Average yearly growth rate (CAGR) for each index over 10 years:\")\n",
    "for index_name, cagr in cagr_10y.items():\n",
    "    print(f\"{index_name}: {cagr:.2f}%\")\n",
    "print(f\"Overall average CAGR over 10 years: {average_cagr_10y:.2f}%\\n\")\n",
    "\n",
    "print(\"Average yearly growth rate (CAGR) for each index over 20 years:\")\n",
    "for index_name, cagr in cagr_20y.items():\n",
    "    print(f\"{index_name}: {cagr:.2f}%\")\n",
    "print(f\"Overall average CAGR over 20 years: {average_cagr_20y:.2f}%\")"
<<<<<<< HEAD
<<<<<<< HEAD
=======
    "1. asdfs\n",
    "2. asdfas\n"
>>>>>>> 65c15b9 (create homework directory and add first homework)
=======
>>>>>>> 7fe955c (add additional answers question 3)
=======
    "1. asdfs\n",
    "2. asdfas\n"
>>>>>>> d69f503 (create homework directory and add first homework)
=======
>>>>>>> fe18548 (add additional answers question 3)
=======
    "1. asdfs\n",
    "2. asdfas\n"
>>>>>>> 65c15b9 (create homework directory and add first homework)
   ]
  },
  {
   "cell_type": "markdown",
   "metadata": {},
   "source": [
    "### Question 4. [Stocks OHLCV] 52-weeks range ratio (2023) for the selected stocks\n",
    "\n",
    "**Find the largest range ratio [=(max-min)/max] of Adj.Close prices in 2023**\n",
    "\n",
    "Download the 2023 daily OHLCV data on Yahoo Finance for top6 stocks on earnings (https://companiesmarketcap.com/most-profitable-companies/): 2222.SR,BRK-B, AAPL, MSFT, GOOG, JPM.\n",
    "\n",
    "Here is the example data you should see in Pandas for \"2222.SR\": https://finance.yahoo.com/quote/2222.SR/history\n",
    "\n",
    "Calculate maximum-minimim \"Adj.Close\" price for each stock and divide it by the maximum \"Adj.Close\" value. Round the result to two decimal places (e.g. 0.1575 will be 0.16)\n",
    "\n",
    "(Additional: why this may be important for your research?)"
   ]
  },
  {
   "cell_type": "code",
<<<<<<< HEAD
<<<<<<< HEAD
<<<<<<< HEAD
<<<<<<< HEAD
<<<<<<< HEAD
<<<<<<< HEAD
   "execution_count": 32,
=======
   "execution_count": 8,
>>>>>>> 65c15b9 (create homework directory and add first homework)
=======
   "execution_count": 32,
>>>>>>> 979fd3e (Update ipynb with formating and other minor changes)
=======
   "execution_count": 8,
>>>>>>> d69f503 (create homework directory and add first homework)
=======
   "execution_count": 32,
>>>>>>> fcae48b (Update ipynb with formating and other minor changes)
=======
   "execution_count": 8,
>>>>>>> 65c15b9 (create homework directory and add first homework)
=======
   "execution_count": 32,
>>>>>>> 979fd3e (Update ipynb with formating and other minor changes)
   "metadata": {},
   "outputs": [
    {
     "name": "stderr",
     "output_type": "stream",
     "text": [
      "[*********************100%%**********************]  1 of 1 completed\n",
      "[*********************100%%**********************]  1 of 1 completed\n",
      "[*********************100%%**********************]  1 of 1 completed\n",
      "[*********************100%%**********************]  1 of 1 completed\n",
      "[*********************100%%**********************]  1 of 1 completed\n",
      "[*********************100%%**********************]  1 of 1 completed"
     ]
    },
    {
     "name": "stdout",
     "output_type": "stream",
     "text": [
      "\n",
      "Stock with the largest range ratio: MSFT\n",
      "\n",
      "Largest range ratio: 0.42\n"
     ]
    },
    {
     "name": "stderr",
     "output_type": "stream",
     "text": [
      "\n"
     ]
    }
   ],
   "source": [
<<<<<<< HEAD
<<<<<<< HEAD
<<<<<<< HEAD
<<<<<<< HEAD
<<<<<<< HEAD
<<<<<<< HEAD
=======
    "import yfinance as yf\n",
    "\n",
>>>>>>> 65c15b9 (create homework directory and add first homework)
=======
>>>>>>> 979fd3e (Update ipynb with formating and other minor changes)
=======
    "import yfinance as yf\n",
    "\n",
>>>>>>> d69f503 (create homework directory and add first homework)
=======
>>>>>>> fcae48b (Update ipynb with formating and other minor changes)
=======
    "import yfinance as yf\n",
    "\n",
>>>>>>> 65c15b9 (create homework directory and add first homework)
=======
>>>>>>> 979fd3e (Update ipynb with formating and other minor changes)
    "# Define the list of stock symbols\n",
    "stock_symbols = ['2222.SR', 'BRK-B', 'AAPL', 'MSFT', 'GOOG', 'JPM']\n",
    "\n",
    "# Download daily OHLCV data for each stock in 2023\n",
    "stock_data = {}\n",
    "for symbol in stock_symbols:\n",
    "    stock_data[symbol] = yf.download(symbol, start='2023-01-01', end='2023-12-31')\n",
    "\n",
    "# Calculate the maximum and minimum adjusted close prices for each stock in 2023\n",
    "stock_max_min = {}\n",
    "for symbol, data in stock_data.items():\n",
    "    max_close = data['Adj Close'].max()\n",
    "    min_close = data['Adj Close'].min()\n",
    "    stock_max_min[symbol] = (max_close, min_close)\n",
    "\n",
    "# Calculate the range ratio for each stock\n",
    "range_ratios = {}\n",
    "for symbol, (max_close, min_close) in stock_max_min.items():\n",
    "    range_ratio = (max_close - min_close) / max_close\n",
    "    range_ratios[symbol] = round(range_ratio, 2)\n",
    "\n",
    "# Find the stock with the largest range ratio\n",
    "largest_range_stock = max(range_ratios, key=range_ratios.get)\n",
    "largest_range_ratio = range_ratios[largest_range_stock]\n",
    "\n",
    "print(\"\\nStock with the largest range ratio: {}\".format(largest_range_stock))\n",
    "print(\"\\nLargest range ratio: {}\".format(largest_range_ratio))"
   ]
  },
  {
   "cell_type": "markdown",
   "metadata": {},
   "source": [
    "Additional Answers:\n",
<<<<<<< HEAD
<<<<<<< HEAD
<<<<<<< HEAD
<<<<<<< HEAD
<<<<<<< HEAD
=======
>>>>>>> 0381546 (finishing hw)
=======
>>>>>>> 1e46a67 (finishing hw)
    "\n",
    "Calculating th largest range ratio of adjusted close prices for a set of stocks can provide valuable insights for analysis like:\n",
    "* Volatility assessment, the range ratio indicates the volatility of a stock's price movement over a specific period.\n",
    "* Trading strategy, traders often use volatility as a key parameter in developing strategies. higher volatility may present more trading opportunities for short-term traders. investors on the other hand prefer lower volatility for long-term investments. \n",
    "* Risk managment, volatility is an important factor in risk managment. By quantifying the range ratio of a stock's price\n",
    "* Comparative analysis, comparing the range ratios of multiple stocks within the same industry or sector can help investors identify outliers and relative performance. \n"
<<<<<<< HEAD
<<<<<<< HEAD
=======
    "1. asdf\n",
    "2. asdf\n"
>>>>>>> 65c15b9 (create homework directory and add first homework)
=======
>>>>>>> 0381546 (finishing hw)
=======
    "1. asdf\n",
    "2. asdf\n"
>>>>>>> d69f503 (create homework directory and add first homework)
=======
>>>>>>> 1e46a67 (finishing hw)
=======
    "1. asdf\n",
    "2. asdf\n"
>>>>>>> 65c15b9 (create homework directory and add first homework)
   ]
  },
  {
   "cell_type": "markdown",
   "metadata": {},
   "source": [
    "### Question 5. [Stocks] Dividend Yield\n",
    "\n",
    "**Find the largest dividend yield for the same set of stocks**\n",
    "\n",
    "Use the same list of companies (2222.SR,BRK-B, AAPL, MSFT, GOOG, JPM) and download all dividends paid in 2023. You can use get_actions() method or .dividends field in yfinance library (https://github.com/ranaroussi/yfinance?tab=readme-ov-file#quick-start)\n",
    "\n",
    "Sum up all dividends paid in 2023 per company and divide each value by the closing price (Adj.Close) at the last trading day of the year.\n",
    "\n",
    "Find the maximm value in % and round to 1 digit after the decimal point. (E.g., if you obtained $1.25 dividends paid and the end year stock price is $100, the dividend yield is 1.25% -- and your answer should be equal to 1.3)"
   ]
  },
  {
   "cell_type": "code",
<<<<<<< HEAD
<<<<<<< HEAD
<<<<<<< HEAD
<<<<<<< HEAD
<<<<<<< HEAD
<<<<<<< HEAD
   "execution_count": 33,
=======
   "execution_count": 9,
>>>>>>> 65c15b9 (create homework directory and add first homework)
=======
   "execution_count": 33,
>>>>>>> 979fd3e (Update ipynb with formating and other minor changes)
=======
   "execution_count": 9,
>>>>>>> d69f503 (create homework directory and add first homework)
=======
   "execution_count": 33,
>>>>>>> fcae48b (Update ipynb with formating and other minor changes)
=======
   "execution_count": 9,
>>>>>>> 65c15b9 (create homework directory and add first homework)
=======
   "execution_count": 33,
>>>>>>> 979fd3e (Update ipynb with formating and other minor changes)
   "metadata": {},
   "outputs": [
    {
     "name": "stderr",
     "output_type": "stream",
     "text": [
      "[*********************100%%**********************]  1 of 1 completed\n",
      "[*********************100%%**********************]  1 of 1 completed\n",
      "[*********************100%%**********************]  1 of 1 completed\n",
      "[*********************100%%**********************]  1 of 1 completed\n",
      "[*********************100%%**********************]  1 of 1 completed\n",
      "[*********************100%%**********************]  1 of 1 completed"
     ]
    },
    {
     "name": "stdout",
     "output_type": "stream",
     "text": [
      "\n",
      "Largest dividend yield: 2.8%\n"
     ]
    },
    {
     "name": "stderr",
     "output_type": "stream",
     "text": [
      "\n"
     ]
    }
   ],
   "source": [
<<<<<<< HEAD
<<<<<<< HEAD
<<<<<<< HEAD
<<<<<<< HEAD
<<<<<<< HEAD
<<<<<<< HEAD
=======
    "import yfinance as yf\n",
    "\n",
>>>>>>> 65c15b9 (create homework directory and add first homework)
=======
>>>>>>> 979fd3e (Update ipynb with formating and other minor changes)
=======
    "import yfinance as yf\n",
    "\n",
>>>>>>> d69f503 (create homework directory and add first homework)
=======
>>>>>>> fcae48b (Update ipynb with formating and other minor changes)
=======
    "import yfinance as yf\n",
    "\n",
>>>>>>> 65c15b9 (create homework directory and add first homework)
=======
>>>>>>> 979fd3e (Update ipynb with formating and other minor changes)
    "# Define the list of stock symbols\n",
    "stock_symbols = ['2222.SR', 'BRK-B', 'AAPL', 'MSFT', 'GOOG', 'JPM']\n",
    "\n",
    "# Initialize a dictionary to store dividend yields for each stock\n",
    "dividend_yields = {}\n",
    "\n",
    "# Loop through each stock symbol\n",
    "for symbol in stock_symbols:\n",
    "    # Download dividend data for the stock for the year 2023\n",
    "    stock = yf.Ticker(symbol)\n",
    "    dividends = stock.dividends\n",
    "\n",
    "    # Sum up all dividends paid in 2023 per company\n",
    "    total_dividends = dividends.loc['2023'].sum()\n",
    "\n",
    "    # Get the closing price (adjusted close) of the stock on the last trading day of the year\n",
    "    last_trading_day_data = yf.download(symbol, end='2023-12-31')\n",
    "    last_trading_day_close = last_trading_day_data['Adj Close'].iloc[-1]\n",
    "\n",
    "    # Calculate the dividend yield for the stock\n",
    "    dividend_yield = (total_dividends / last_trading_day_close) * 100\n",
    "\n",
    "    # Store the dividend yield in the dictionary\n",
    "    dividend_yields[symbol] = dividend_yield\n",
    "\n",
    "# Find the maximum dividend yield among all stocks\n",
    "largest_dividend_yield = max(dividend_yields.values())\n",
    "\n",
    "# Round the maximum dividend yield to 1 decimal place\n",
    "largest_dividend_yield_rounded = round(largest_dividend_yield, 1)\n",
    "\n",
    "print(\"\\nLargest dividend yield: {}%\".format(largest_dividend_yield_rounded))"
   ]
  },
  {
   "cell_type": "markdown",
   "metadata": {},
   "source": [
    "### Question 6. [Exploratory] Investigate new metrics\n",
    "\n",
    "Free text answer\n",
    "\n",
    "Download and explore a few additional metrics or time series that might be valuable for your project and write down why (briefly)."
   ]
  },
  {
   "cell_type": "markdown",
   "metadata": {},
   "source": [
<<<<<<< HEAD
<<<<<<< HEAD
<<<<<<< HEAD
<<<<<<< HEAD
<<<<<<< HEAD
    "Well, for this question I tried to search for resources for my local market. But as I live in Bolivia there is not much information on stock exchange in here. And finding the information is only reserved to so little people that is just sad. That's why I will turn my focus on global market or cripto currency as I will continue to search for API and other resources. "
=======
    "asd"
>>>>>>> 65c15b9 (create homework directory and add first homework)
=======
    "Well, for this question I tried to search for resources for my local market. But as I live in Bolivia there is not much information on stock exchange in here. And finding the information is only reserved to so little people that is just sad. That's why I will turn my focus on global market or cripto currency as I will continue to search for API and other resources. "
>>>>>>> 0381546 (finishing hw)
=======
    "asd"
>>>>>>> d69f503 (create homework directory and add first homework)
=======
    "Well, for this question I tried to search for resources for my local market. But as I live in Bolivia there is not much information on stock exchange in here. And finding the information is only reserved to so little people that is just sad. That's why I will turn my focus on global market or cripto currency as I will continue to search for API and other resources. "
>>>>>>> 1e46a67 (finishing hw)
=======
    "asd"
>>>>>>> 65c15b9 (create homework directory and add first homework)
   ]
  },
  {
   "cell_type": "markdown",
   "metadata": {},
   "source": [
    "### Question 7. [Exploratory] Time-driven strategy description around earnings releases\n",
    "\n",
    "Free text answer\n",
    "\n",
    "Explore earning dates for the whole month of April - e.g. using YahooFinance earnings calendar (https://finance.yahoo.com/calendar/earnings?from=2024-04-21&to=2024-04-27&day=2024-04-23). Compare with the previous closed earnings (e.g., recent dates with full data https://finance.yahoo.com/calendar/earnings?from=2024-04-07&to=2024-04-13&day=2024-04-08).\n",
    "\n",
    "Describe an analytical strategy/idea (you're not required to implement it) to select a subset companies of interest based on the future events data."
   ]
  },
  {
   "cell_type": "markdown",
   "metadata": {},
   "source": [
<<<<<<< HEAD
<<<<<<< HEAD
<<<<<<< HEAD
<<<<<<< HEAD
<<<<<<< HEAD
=======
>>>>>>> 0381546 (finishing hw)
=======
>>>>>>> 1e46a67 (finishing hw)
    "Exploring earnings dates for the whole month of April and comparing them with previous closed earnings can provide valuable insights for investors and traders. Here's an analytical strategy to select a subset of companies of interest based on this data:\n",
    "\n",
    "* Collect Earnings Data: Utilize the Yahoo Finance earnings calendar or other financial data sources to collect earnings dates for the whole month of April. This data should include the earnings release dates, companies reporting earnings, and possibly other relevant information such as expected earnings per share (EPS) and revenue.\n",
    "* Analyze Previous Earnings: Review the earnings data for recent dates with full data, such as the previous week or month. Analyze the earnings surprises (actual earnings vs. expected earnings), stock price reactions to earnings announcements, and any other relevant factors. Identify patterns or trends in how stocks have historically performed around earnings announcements.\n",
    "* Industry Focus: Focus on specific industries or sectors that have historically shown strong earnings performance or have upcoming events that could impact earnings results. Consider factors such as industry trends, macroeconomic indicators, and market sentiment towards specific sectors.\n",
    "* Company Selection Criteria: Define criteria for selecting companies of interest based on their earnings history, financial performance, industry outlook, and other relevant factors. This could include metrics such as revenue growth, earnings growth, profitability ratios, and valuation multiples.\n",
    "* Screening Process: Use screening tools or algorithms to filter companies based on the predefined selection criteria. Narrow down the list of companies to a subset that meets the desired criteria and is expected to report earnings in the upcoming month.\n",
    "* Risk Assessment: Assess the risk associated with each selected company, taking into account factors such as market volatility, sector-specific risks, and potential earnings surprises. Consider implementing risk management strategies to mitigate downside risk and protect investment capital.\n",
    "* Diversification: Ensure diversification across different industries, sectors, and market capitalizations within the selected subset of companies. Diversification can help spread risk and capture opportunities across a broader range of stocks.\n",
    "* Monitoring and Adjustment: Continuously monitor the selected companies and their earnings announcements throughout the month of April. Stay updated on any changes in earnings expectations, market conditions, or company-specific developments. Be prepared to adjust the portfolio based on new information and emerging opportunities."
<<<<<<< HEAD
<<<<<<< HEAD
   ]
  },
  {
   "cell_type": "markdown",
   "metadata": {},
   "source": []
=======
    "asdf"
   ]
>>>>>>> 65c15b9 (create homework directory and add first homework)
=======
   ]
  },
  {
   "cell_type": "markdown",
   "metadata": {},
   "source": []
>>>>>>> 0381546 (finishing hw)
=======
    "asdf"
   ]
>>>>>>> d69f503 (create homework directory and add first homework)
=======
   ]
  },
  {
   "cell_type": "markdown",
   "metadata": {},
   "source": []
>>>>>>> 1e46a67 (finishing hw)
=======
    "asdf"
   ]
>>>>>>> 65c15b9 (create homework directory and add first homework)
  }
 ],
 "metadata": {
  "kernelspec": {
   "display_name": "stock_zoomcamp",
   "language": "python",
   "name": "python3"
  },
  "language_info": {
   "codemirror_mode": {
    "name": "ipython",
    "version": 3
   },
   "file_extension": ".py",
   "mimetype": "text/x-python",
   "name": "python",
   "nbconvert_exporter": "python",
   "pygments_lexer": "ipython3",
   "version": "3.10.14"
  }
 },
 "nbformat": 4,
 "nbformat_minor": 2
}
