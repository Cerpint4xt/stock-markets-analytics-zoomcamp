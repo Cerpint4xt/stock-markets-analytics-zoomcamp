{
 "cells": [
  {
   "cell_type": "markdown",
   "metadata": {},
   "source": [
    "# Homework 1 - Stock Markets Analytics Zoomcamp\n",
    "\n",
    "## Introduction and Data Source\n",
    "\n",
    "### Question 1: [Macro] Average growth of GDP in 2023\n",
    "\n",
    "**What is the average growth (in %) of GDP in 2023?**\n",
    "\n",
    "Download the timeseries Real Gross Domestic Product (GDPC1) from FRED (https://fred.stlouisfed.org/series/GDPC1). Calculate year-over-year (YoY) growth rate (that is, divide current value to one 4 quarters ago). Find the average YoY growth in 2023 (average from 4 YoY numbers). Round to 1 digit after the decimal point: e.g. if you get 5.66% growth => you should answer 5.7"
   ]
  },
  {
   "cell_type": "code",
   "execution_count": 3,
   "metadata": {},
   "outputs": [
    {
     "name": "stdout",
     "output_type": "stream",
     "text": [
      "Average YoY Growth in 2023: YoY_Growth    2.5\n",
      "dtype: float64%\n"
     ]
    }
   ],
   "source": [
    "import pandas as pd\n",
    "import pandas_datareader.data as pdr\n",
    "import datetime as dt\n",
    "\n",
    "# Define start and end dates\n",
    "start = dt.datetime(2022, 1, 1)\n",
    "end = dt.datetime(2024, 1, 1)\n",
    "\n",
    "# Download GDPC1 data from FRED\n",
    "gdpc1 = pdr.DataReader(\"GDPC1\", \"fred\", start, end)\n",
    "\n",
    "# Calculate year-over-year growth rate\n",
    "gdpc1_yoy = gdpc1.pct_change(4) * 100  # Multiply by 100 to get percentage change\n",
    "gdpc1_yoy.columns = ['YoY_Growth']  # Rename column for clarity\n",
    "\n",
    "# Extract YoY growth rates for 2023\n",
    "gdpc1_yoy_2023 = gdpc1_yoy.loc['2023']\n",
    "\n",
    "# Calculate average YoY growth in 2023\n",
    "average_yoy_growth_2023 = gdpc1_yoy_2023.mean()\n",
    "\n",
    "# Round to 1 decimal point\n",
    "average_yoy_growth_2023_rounded = round(average_yoy_growth_2023, 1)\n",
    "\n",
    "print(\"Average YoY Growth in 2023: {}%\".format(average_yoy_growth_2023_rounded))"
   ]
  },
  {
   "cell_type": "markdown",
   "metadata": {},
   "source": [
    "### Question 2. [Macro] Inverse \"Treasury Yield\"\n",
    "\n",
    "**Find the min value of (dgs10-dgs2) after since year 2000 (2000-01-01) and write it down as an answer, round to 1 digit after the decimal point.**\n",
    "\n",
    "Download DGS2 and DGS10 interest rates series (https://fred.stlouisfed.org/series/DGS2, https://fred.stlouisfed.org/series/DGS10). Join them together to one dataframe on date (you might need to read about pandas.DataFrame.join()), calculate the difference dgs10-dgs2 daily.\n",
    "\n",
    "(Additional: think about what does the \"inverted yield curve\" mean for the market and investors? do you see the same thing in your country/market of interest? Do you think it can be a good predictive feature for the models?)"
   ]
  },
  {
   "cell_type": "code",
   "execution_count": 5,
   "metadata": {},
   "outputs": [
    {
     "name": "stdout",
     "output_type": "stream",
     "text": [
      "Minimum value of (DGS10 - DGS2) since 2000: -1.1%\n"
     ]
    }
   ],
   "source": [
    "# Define start and end dates\n",
    "start = \"2000-01-01\"\n",
    "end = \"2024-01-01\"\n",
    "\n",
    "# Download DGS2 and DGS10 data from FRED\n",
    "dgs2 = pdr.DataReader(\"DGS2\", \"fred\", start, end)\n",
    "dgs10 = pdr.DataReader(\"DGS10\", \"fred\", start, end)\n",
    "\n",
    "# Join the two dataframes on date\n",
    "interest_rates = dgs2.join(dgs10, how=\"inner\", lsuffix=\"_2\", rsuffix=\"_10\")\n",
    "\n",
    "# Calculate the difference between DGS10 and DGS2 daily\n",
    "interest_rates[\"DGS10_minus_DGS2\"] = interest_rates[\"DGS10\"] - interest_rates[\"DGS2\"]\n",
    "\n",
    "# Find the minimum value of (DGS10 - DGS2) since 2000\n",
    "min_value_since_2000 = interest_rates[\"DGS10_minus_DGS2\"].min()\n",
    "\n",
    "# Round to 1 decimal point\n",
    "min_value_rounded = round(min_value_since_2000, 1)\n",
    "\n",
    "print(\"Minimum value of (DGS10 - DGS2) since 2000: {}%\".format(min_value_rounded))"
   ]
  },
  {
   "cell_type": "markdown",
   "metadata": {},
   "source": [
    "Additional answers:\n",
    "1. asdf\n",
    "2. asdf"
   ]
  },
  {
   "cell_type": "markdown",
   "metadata": {},
   "source": [
    "### Question 3. [Index] Which Index is better recently?\n",
    "\n",
    "**Compare S&P 500 and IPC Mexico indexes by the 5 year growth and write down the largest value as an answer (%)**\n",
    "\n",
    "Download on Yahoo Finance two daily index prices for S&P 500 (^GSPC, https://finance.yahoo.com/quote/%5EGSPC/) and IPC Mexico (^MXX, https://finance.yahoo.com/quote/%5EMXX/). Compare 5Y growth for both (between 2019-04-09 and 2024-04-09). Select the higher growing index and write down the growth in % (closest integer %). E.g. if ratio end/start was 2.0925 (or growth of 109.25%), you need to write down 109 as your answer.\n",
    "\n",
    "(Additional: think of other indexes and try to download stats and compare the growth? Do create 10Y and 20Y growth stats. What is an average yearly growth rate (CAGR) for each of the indexes you select?)"
   ]
  },
  {
   "cell_type": "code",
   "execution_count": 7,
   "metadata": {},
   "outputs": [
    {
     "name": "stderr",
     "output_type": "stream",
     "text": [
      "[*********************100%%**********************]  1 of 1 completed\n",
      "[*********************100%%**********************]  1 of 1 completed"
     ]
    },
    {
     "name": "stdout",
     "output_type": "stream",
     "text": [
      "\n",
      "Index with the highest growth: S&P 500\n",
      "Growth percentage: 80.75%\n"
     ]
    },
    {
     "name": "stderr",
     "output_type": "stream",
     "text": [
      "\n"
     ]
    }
   ],
   "source": [
    "import yfinance as yf\n",
    "import datetime as dt\n",
    "\n",
    "# Define start and end dates for the 5-year period\n",
    "start_date = \"2019-04-09\"\n",
    "end_date = \"2024-04-09\"\n",
    "\n",
    "# Download S&P 500 (^GSPC) and IPC Mexico (^MXX) index data from Yahoo Finance\n",
    "sp500_data = yf.download(\"^GSPC\", start=start_date, end=end_date)\n",
    "ipc_data = yf.download(\"^MXX\", start=start_date, end=end_date)\n",
    "\n",
    "# Calculate the 5-year growth for each index\n",
    "sp500_start_price = sp500_data['Adj Close'].iloc[0]\n",
    "sp500_end_price = sp500_data['Adj Close'].iloc[-1]\n",
    "sp500_growth = ((sp500_end_price - sp500_start_price) / sp500_start_price) * 100\n",
    "\n",
    "ipc_start_price = ipc_data['Adj Close'].iloc[0]\n",
    "ipc_end_price = ipc_data['Adj Close'].iloc[-1]\n",
    "ipc_growth = ((ipc_end_price - ipc_start_price) / ipc_start_price) * 100\n",
    "\n",
    "# Compare the growth values and select the index with the higher growth\n",
    "if sp500_growth > ipc_growth:\n",
    "    selected_index = \"S&P 500\"\n",
    "    selected_growth = round(sp500_growth,2)\n",
    "else:\n",
    "    selected_index = \"IPC Mexico\"\n",
    "    selected_growth = round(ipc_growth,2)\n",
    "\n",
    "print(\"\\nIndex with the highest growth: {}\".format(selected_index))\n",
    "print(\"Growth percentage: {}%\".format(selected_growth))"
   ]
  },
  {
   "cell_type": "markdown",
   "metadata": {},
   "source": [
    "Additional Answers:\n",
    "1. asdfs\n",
    "2. asdfas\n"
   ]
  },
  {
   "cell_type": "markdown",
   "metadata": {},
   "source": [
    "### Question 4. [Stocks OHLCV] 52-weeks range ratio (2023) for the selected stocks\n",
    "\n",
    "**Find the largest range ratio [=(max-min)/max] of Adj.Close prices in 2023**\n",
    "\n",
    "Download the 2023 daily OHLCV data on Yahoo Finance for top6 stocks on earnings (https://companiesmarketcap.com/most-profitable-companies/): 2222.SR,BRK-B, AAPL, MSFT, GOOG, JPM.\n",
    "\n",
    "Here is the example data you should see in Pandas for \"2222.SR\": https://finance.yahoo.com/quote/2222.SR/history\n",
    "\n",
    "Calculate maximum-minimim \"Adj.Close\" price for each stock and divide it by the maximum \"Adj.Close\" value. Round the result to two decimal places (e.g. 0.1575 will be 0.16)\n",
    "\n",
    "(Additional: why this may be important for your research?)"
   ]
  },
  {
   "cell_type": "code",
   "execution_count": 8,
   "metadata": {},
   "outputs": [
    {
     "name": "stderr",
     "output_type": "stream",
     "text": [
      "[*********************100%%**********************]  1 of 1 completed\n",
      "[*********************100%%**********************]  1 of 1 completed\n",
      "[*********************100%%**********************]  1 of 1 completed\n",
      "[*********************100%%**********************]  1 of 1 completed\n",
      "[*********************100%%**********************]  1 of 1 completed\n",
      "[*********************100%%**********************]  1 of 1 completed"
     ]
    },
    {
     "name": "stdout",
     "output_type": "stream",
     "text": [
      "\n",
      "Stock with the largest range ratio: MSFT\n",
      "\n",
      "Largest range ratio: 0.42\n"
     ]
    },
    {
     "name": "stderr",
     "output_type": "stream",
     "text": [
      "\n"
     ]
    }
   ],
   "source": [
    "import yfinance as yf\n",
    "\n",
    "# Define the list of stock symbols\n",
    "stock_symbols = ['2222.SR', 'BRK-B', 'AAPL', 'MSFT', 'GOOG', 'JPM']\n",
    "\n",
    "# Download daily OHLCV data for each stock in 2023\n",
    "stock_data = {}\n",
    "for symbol in stock_symbols:\n",
    "    stock_data[symbol] = yf.download(symbol, start='2023-01-01', end='2023-12-31')\n",
    "\n",
    "# Calculate the maximum and minimum adjusted close prices for each stock in 2023\n",
    "stock_max_min = {}\n",
    "for symbol, data in stock_data.items():\n",
    "    max_close = data['Adj Close'].max()\n",
    "    min_close = data['Adj Close'].min()\n",
    "    stock_max_min[symbol] = (max_close, min_close)\n",
    "\n",
    "# Calculate the range ratio for each stock\n",
    "range_ratios = {}\n",
    "for symbol, (max_close, min_close) in stock_max_min.items():\n",
    "    range_ratio = (max_close - min_close) / max_close\n",
    "    range_ratios[symbol] = round(range_ratio, 2)\n",
    "\n",
    "# Find the stock with the largest range ratio\n",
    "largest_range_stock = max(range_ratios, key=range_ratios.get)\n",
    "largest_range_ratio = range_ratios[largest_range_stock]\n",
    "\n",
    "print(\"\\nStock with the largest range ratio: {}\".format(largest_range_stock))\n",
    "print(\"\\nLargest range ratio: {}\".format(largest_range_ratio))"
   ]
  },
  {
   "cell_type": "markdown",
   "metadata": {},
   "source": [
    "Additional Answers:\n",
    "1. asdf\n",
    "2. asdf\n"
   ]
  },
  {
   "cell_type": "markdown",
   "metadata": {},
   "source": [
    "### Question 5. [Stocks] Dividend Yield\n",
    "\n",
    "**Find the largest dividend yield for the same set of stocks**\n",
    "\n",
    "Use the same list of companies (2222.SR,BRK-B, AAPL, MSFT, GOOG, JPM) and download all dividends paid in 2023. You can use get_actions() method or .dividends field in yfinance library (https://github.com/ranaroussi/yfinance?tab=readme-ov-file#quick-start)\n",
    "\n",
    "Sum up all dividends paid in 2023 per company and divide each value by the closing price (Adj.Close) at the last trading day of the year.\n",
    "\n",
    "Find the maximm value in % and round to 1 digit after the decimal point. (E.g., if you obtained $1.25 dividends paid and the end year stock price is $100, the dividend yield is 1.25% -- and your answer should be equal to 1.3)"
   ]
  },
  {
   "cell_type": "code",
   "execution_count": 9,
   "metadata": {},
   "outputs": [
    {
     "name": "stderr",
     "output_type": "stream",
     "text": [
      "[*********************100%%**********************]  1 of 1 completed\n",
      "[*********************100%%**********************]  1 of 1 completed\n",
      "[*********************100%%**********************]  1 of 1 completed\n",
      "[*********************100%%**********************]  1 of 1 completed\n",
      "[*********************100%%**********************]  1 of 1 completed\n",
      "[*********************100%%**********************]  1 of 1 completed"
     ]
    },
    {
     "name": "stdout",
     "output_type": "stream",
     "text": [
      "\n",
      "Largest dividend yield: 2.8%\n"
     ]
    },
    {
     "name": "stderr",
     "output_type": "stream",
     "text": [
      "\n"
     ]
    }
   ],
   "source": [
    "import yfinance as yf\n",
    "\n",
    "# Define the list of stock symbols\n",
    "stock_symbols = ['2222.SR', 'BRK-B', 'AAPL', 'MSFT', 'GOOG', 'JPM']\n",
    "\n",
    "# Initialize a dictionary to store dividend yields for each stock\n",
    "dividend_yields = {}\n",
    "\n",
    "# Loop through each stock symbol\n",
    "for symbol in stock_symbols:\n",
    "    # Download dividend data for the stock for the year 2023\n",
    "    stock = yf.Ticker(symbol)\n",
    "    dividends = stock.dividends\n",
    "\n",
    "    # Sum up all dividends paid in 2023 per company\n",
    "    total_dividends = dividends.loc['2023'].sum()\n",
    "\n",
    "    # Get the closing price (adjusted close) of the stock on the last trading day of the year\n",
    "    last_trading_day_data = yf.download(symbol, end='2023-12-31')\n",
    "    last_trading_day_close = last_trading_day_data['Adj Close'].iloc[-1]\n",
    "\n",
    "    # Calculate the dividend yield for the stock\n",
    "    dividend_yield = (total_dividends / last_trading_day_close) * 100\n",
    "\n",
    "    # Store the dividend yield in the dictionary\n",
    "    dividend_yields[symbol] = dividend_yield\n",
    "\n",
    "# Find the maximum dividend yield among all stocks\n",
    "largest_dividend_yield = max(dividend_yields.values())\n",
    "\n",
    "# Round the maximum dividend yield to 1 decimal place\n",
    "largest_dividend_yield_rounded = round(largest_dividend_yield, 1)\n",
    "\n",
    "print(\"\\nLargest dividend yield: {}%\".format(largest_dividend_yield_rounded))"
   ]
  },
  {
   "cell_type": "markdown",
   "metadata": {},
   "source": [
    "### Question 6. [Exploratory] Investigate new metrics\n",
    "\n",
    "Free text answer\n",
    "\n",
    "Download and explore a few additional metrics or time series that might be valuable for your project and write down why (briefly)."
   ]
  },
  {
   "cell_type": "markdown",
   "metadata": {},
   "source": [
    "asd"
   ]
  },
  {
   "cell_type": "markdown",
   "metadata": {},
   "source": [
    "### Question 7. [Exploratory] Time-driven strategy description around earnings releases\n",
    "\n",
    "Free text answer\n",
    "\n",
    "Explore earning dates for the whole month of April - e.g. using YahooFinance earnings calendar (https://finance.yahoo.com/calendar/earnings?from=2024-04-21&to=2024-04-27&day=2024-04-23). Compare with the previous closed earnings (e.g., recent dates with full data https://finance.yahoo.com/calendar/earnings?from=2024-04-07&to=2024-04-13&day=2024-04-08).\n",
    "\n",
    "Describe an analytical strategy/idea (you're not required to implement it) to select a subset companies of interest based on the future events data."
   ]
  },
  {
   "cell_type": "markdown",
   "metadata": {},
   "source": [
    "asdf"
   ]
  }
 ],
 "metadata": {
  "kernelspec": {
   "display_name": "stock_zoomcamp",
   "language": "python",
   "name": "python3"
  },
  "language_info": {
   "codemirror_mode": {
    "name": "ipython",
    "version": 3
   },
   "file_extension": ".py",
   "mimetype": "text/x-python",
   "name": "python",
   "nbconvert_exporter": "python",
   "pygments_lexer": "ipython3",
   "version": "3.10.14"
  }
 },
 "nbformat": 4,
 "nbformat_minor": 2
}
